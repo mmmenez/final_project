{
 "cells": [
  {
   "cell_type": "markdown",
   "metadata": {},
   "source": [
    "# Running the Models"
   ]
  },
  {
   "cell_type": "code",
   "execution_count": 32,
   "metadata": {},
   "outputs": [],
   "source": [
    "# Importing all necessary libraries\n",
    "import numpy as np\n",
    "import pandas as pd\n",
    "from sklearn.model_selection import train_test_split\n",
    "from sklearn.preprocessing import StandardScaler\n",
    "\n",
    "#Classifiers\n",
    "from sklearn.linear_model import LogisticRegression\n",
    "from sklearn.neighbors import KNeighborsClassifier\n",
    "from sklearn.tree import DecisionTreeClassifier\n",
    "from sklearn.ensemble import BaggingClassifier\n",
    "from sklearn.tree import DecisionTreeRegressor\n",
    "from sklearn.ensemble import RandomForestClassifier, ExtraTreesClassifier\n",
    "from sklearn.linear_model import RidgeClassifier"
   ]
  },
  {
   "cell_type": "code",
   "execution_count": 2,
   "metadata": {},
   "outputs": [],
   "source": [
    "# Loading in our combined data"
   ]
  },
  {
   "cell_type": "code",
   "execution_count": 3,
   "metadata": {},
   "outputs": [],
   "source": [
    "df = pd.read_csv('KS_BGG_combined.csv', engine = 'python')"
   ]
  },
  {
   "cell_type": "code",
   "execution_count": 4,
   "metadata": {},
   "outputs": [
    {
     "data": {
      "text/html": [
       "<div>\n",
       "<style scoped>\n",
       "    .dataframe tbody tr th:only-of-type {\n",
       "        vertical-align: middle;\n",
       "    }\n",
       "\n",
       "    .dataframe tbody tr th {\n",
       "        vertical-align: top;\n",
       "    }\n",
       "\n",
       "    .dataframe thead th {\n",
       "        text-align: right;\n",
       "    }\n",
       "</style>\n",
       "<table border=\"1\" class=\"dataframe\">\n",
       "  <thead>\n",
       "    <tr style=\"text-align: right;\">\n",
       "      <th></th>\n",
       "      <th>abstract strategy</th>\n",
       "      <th>action / dexterity</th>\n",
       "      <th>adventure</th>\n",
       "      <th>age of reason</th>\n",
       "      <th>american civil war</th>\n",
       "      <th>american indian wars</th>\n",
       "      <th>american revolutionary war</th>\n",
       "      <th>american west</th>\n",
       "      <th>ancient</th>\n",
       "      <th>animals</th>\n",
       "      <th>...</th>\n",
       "      <th>state</th>\n",
       "      <th>state_changed_at</th>\n",
       "      <th>static_usd_rate</th>\n",
       "      <th>unread_messages_count</th>\n",
       "      <th>unseen_activity_count</th>\n",
       "      <th>urls</th>\n",
       "      <th>usd_pledged</th>\n",
       "      <th>usd_type</th>\n",
       "      <th>_merge</th>\n",
       "      <th>top10%</th>\n",
       "    </tr>\n",
       "  </thead>\n",
       "  <tbody>\n",
       "    <tr>\n",
       "      <td>0</td>\n",
       "      <td>0.0</td>\n",
       "      <td>0.0</td>\n",
       "      <td>1.0</td>\n",
       "      <td>0.0</td>\n",
       "      <td>0.0</td>\n",
       "      <td>0.0</td>\n",
       "      <td>0.0</td>\n",
       "      <td>0.0</td>\n",
       "      <td>0.0</td>\n",
       "      <td>0.0</td>\n",
       "      <td>...</td>\n",
       "      <td>successful</td>\n",
       "      <td>1.443629e+09</td>\n",
       "      <td>1.000000</td>\n",
       "      <td>NaN</td>\n",
       "      <td>NaN</td>\n",
       "      <td>{\"web\":{\"project\":\"https://www.kickstarter.com...</td>\n",
       "      <td>3.861040e+05</td>\n",
       "      <td>NaN</td>\n",
       "      <td>both</td>\n",
       "      <td>1</td>\n",
       "    </tr>\n",
       "    <tr>\n",
       "      <td>1</td>\n",
       "      <td>0.0</td>\n",
       "      <td>0.0</td>\n",
       "      <td>0.0</td>\n",
       "      <td>0.0</td>\n",
       "      <td>0.0</td>\n",
       "      <td>0.0</td>\n",
       "      <td>0.0</td>\n",
       "      <td>0.0</td>\n",
       "      <td>0.0</td>\n",
       "      <td>0.0</td>\n",
       "      <td>...</td>\n",
       "      <td>live</td>\n",
       "      <td>1.444747e+09</td>\n",
       "      <td>1.000000</td>\n",
       "      <td>NaN</td>\n",
       "      <td>NaN</td>\n",
       "      <td>{\"web\":{\"project\":\"https://www.kickstarter.com...</td>\n",
       "      <td>1.348585e+06</td>\n",
       "      <td>NaN</td>\n",
       "      <td>both</td>\n",
       "      <td>1</td>\n",
       "    </tr>\n",
       "    <tr>\n",
       "      <td>2</td>\n",
       "      <td>0.0</td>\n",
       "      <td>0.0</td>\n",
       "      <td>0.0</td>\n",
       "      <td>0.0</td>\n",
       "      <td>0.0</td>\n",
       "      <td>0.0</td>\n",
       "      <td>0.0</td>\n",
       "      <td>0.0</td>\n",
       "      <td>0.0</td>\n",
       "      <td>0.0</td>\n",
       "      <td>...</td>\n",
       "      <td>successful</td>\n",
       "      <td>1.426633e+09</td>\n",
       "      <td>1.000000</td>\n",
       "      <td>NaN</td>\n",
       "      <td>NaN</td>\n",
       "      <td>{\"web\":{\"project\":\"https://www.kickstarter.com...</td>\n",
       "      <td>9.056820e+05</td>\n",
       "      <td>NaN</td>\n",
       "      <td>both</td>\n",
       "      <td>1</td>\n",
       "    </tr>\n",
       "    <tr>\n",
       "      <td>3</td>\n",
       "      <td>0.0</td>\n",
       "      <td>0.0</td>\n",
       "      <td>0.0</td>\n",
       "      <td>1.0</td>\n",
       "      <td>0.0</td>\n",
       "      <td>0.0</td>\n",
       "      <td>0.0</td>\n",
       "      <td>0.0</td>\n",
       "      <td>0.0</td>\n",
       "      <td>0.0</td>\n",
       "      <td>...</td>\n",
       "      <td>successful</td>\n",
       "      <td>1.445029e+09</td>\n",
       "      <td>1.000000</td>\n",
       "      <td>NaN</td>\n",
       "      <td>NaN</td>\n",
       "      <td>{\"web\":{\"project\":\"https://www.kickstarter.com...</td>\n",
       "      <td>8.417600e+04</td>\n",
       "      <td>NaN</td>\n",
       "      <td>both</td>\n",
       "      <td>1</td>\n",
       "    </tr>\n",
       "    <tr>\n",
       "      <td>4</td>\n",
       "      <td>0.0</td>\n",
       "      <td>0.0</td>\n",
       "      <td>0.0</td>\n",
       "      <td>0.0</td>\n",
       "      <td>0.0</td>\n",
       "      <td>0.0</td>\n",
       "      <td>0.0</td>\n",
       "      <td>0.0</td>\n",
       "      <td>0.0</td>\n",
       "      <td>0.0</td>\n",
       "      <td>...</td>\n",
       "      <td>live</td>\n",
       "      <td>1.488917e+09</td>\n",
       "      <td>1.000000</td>\n",
       "      <td>NaN</td>\n",
       "      <td>NaN</td>\n",
       "      <td>{\"web\":{\"project\":\"https://www.kickstarter.com...</td>\n",
       "      <td>2.221682e+06</td>\n",
       "      <td>NaN</td>\n",
       "      <td>both</td>\n",
       "      <td>1</td>\n",
       "    </tr>\n",
       "    <tr>\n",
       "      <td>...</td>\n",
       "      <td>...</td>\n",
       "      <td>...</td>\n",
       "      <td>...</td>\n",
       "      <td>...</td>\n",
       "      <td>...</td>\n",
       "      <td>...</td>\n",
       "      <td>...</td>\n",
       "      <td>...</td>\n",
       "      <td>...</td>\n",
       "      <td>...</td>\n",
       "      <td>...</td>\n",
       "      <td>...</td>\n",
       "      <td>...</td>\n",
       "      <td>...</td>\n",
       "      <td>...</td>\n",
       "      <td>...</td>\n",
       "      <td>...</td>\n",
       "      <td>...</td>\n",
       "      <td>...</td>\n",
       "      <td>...</td>\n",
       "      <td>...</td>\n",
       "    </tr>\n",
       "    <tr>\n",
       "      <td>360</td>\n",
       "      <td>0.0</td>\n",
       "      <td>0.0</td>\n",
       "      <td>0.0</td>\n",
       "      <td>0.0</td>\n",
       "      <td>0.0</td>\n",
       "      <td>0.0</td>\n",
       "      <td>0.0</td>\n",
       "      <td>0.0</td>\n",
       "      <td>0.0</td>\n",
       "      <td>0.0</td>\n",
       "      <td>...</td>\n",
       "      <td>live</td>\n",
       "      <td>1.508437e+09</td>\n",
       "      <td>1.000000</td>\n",
       "      <td>NaN</td>\n",
       "      <td>NaN</td>\n",
       "      <td>{\"web\":{\"project\":\"https://www.kickstarter.com...</td>\n",
       "      <td>6.063800e+04</td>\n",
       "      <td>domestic</td>\n",
       "      <td>both</td>\n",
       "      <td>0</td>\n",
       "    </tr>\n",
       "    <tr>\n",
       "      <td>361</td>\n",
       "      <td>0.0</td>\n",
       "      <td>0.0</td>\n",
       "      <td>0.0</td>\n",
       "      <td>0.0</td>\n",
       "      <td>0.0</td>\n",
       "      <td>0.0</td>\n",
       "      <td>0.0</td>\n",
       "      <td>0.0</td>\n",
       "      <td>1.0</td>\n",
       "      <td>0.0</td>\n",
       "      <td>...</td>\n",
       "      <td>successful</td>\n",
       "      <td>1.479496e+09</td>\n",
       "      <td>1.000000</td>\n",
       "      <td>NaN</td>\n",
       "      <td>NaN</td>\n",
       "      <td>{\"web\":{\"project\":\"https://www.kickstarter.com...</td>\n",
       "      <td>1.904500e+04</td>\n",
       "      <td>NaN</td>\n",
       "      <td>both</td>\n",
       "      <td>0</td>\n",
       "    </tr>\n",
       "    <tr>\n",
       "      <td>362</td>\n",
       "      <td>0.0</td>\n",
       "      <td>0.0</td>\n",
       "      <td>0.0</td>\n",
       "      <td>0.0</td>\n",
       "      <td>0.0</td>\n",
       "      <td>0.0</td>\n",
       "      <td>0.0</td>\n",
       "      <td>1.0</td>\n",
       "      <td>0.0</td>\n",
       "      <td>0.0</td>\n",
       "      <td>...</td>\n",
       "      <td>successful</td>\n",
       "      <td>1.364958e+09</td>\n",
       "      <td>1.000000</td>\n",
       "      <td>NaN</td>\n",
       "      <td>NaN</td>\n",
       "      <td>{\"web\":{\"project\":\"https://www.kickstarter.com...</td>\n",
       "      <td>5.049715e+04</td>\n",
       "      <td>NaN</td>\n",
       "      <td>both</td>\n",
       "      <td>0</td>\n",
       "    </tr>\n",
       "    <tr>\n",
       "      <td>363</td>\n",
       "      <td>0.0</td>\n",
       "      <td>0.0</td>\n",
       "      <td>1.0</td>\n",
       "      <td>0.0</td>\n",
       "      <td>0.0</td>\n",
       "      <td>0.0</td>\n",
       "      <td>0.0</td>\n",
       "      <td>0.0</td>\n",
       "      <td>0.0</td>\n",
       "      <td>0.0</td>\n",
       "      <td>...</td>\n",
       "      <td>successful</td>\n",
       "      <td>1.481324e+09</td>\n",
       "      <td>1.000000</td>\n",
       "      <td>NaN</td>\n",
       "      <td>NaN</td>\n",
       "      <td>{\"web\":{\"project\":\"https://www.kickstarter.com...</td>\n",
       "      <td>8.988600e+04</td>\n",
       "      <td>NaN</td>\n",
       "      <td>both</td>\n",
       "      <td>0</td>\n",
       "    </tr>\n",
       "    <tr>\n",
       "      <td>364</td>\n",
       "      <td>0.0</td>\n",
       "      <td>0.0</td>\n",
       "      <td>0.0</td>\n",
       "      <td>0.0</td>\n",
       "      <td>0.0</td>\n",
       "      <td>0.0</td>\n",
       "      <td>0.0</td>\n",
       "      <td>0.0</td>\n",
       "      <td>0.0</td>\n",
       "      <td>0.0</td>\n",
       "      <td>...</td>\n",
       "      <td>live</td>\n",
       "      <td>1.501157e+09</td>\n",
       "      <td>1.164382</td>\n",
       "      <td>NaN</td>\n",
       "      <td>NaN</td>\n",
       "      <td>{\"web\":{\"project\":\"https://www.kickstarter.com...</td>\n",
       "      <td>3.217047e+04</td>\n",
       "      <td>NaN</td>\n",
       "      <td>both</td>\n",
       "      <td>0</td>\n",
       "    </tr>\n",
       "  </tbody>\n",
       "</table>\n",
       "<p>365 rows × 198 columns</p>\n",
       "</div>"
      ],
      "text/plain": [
       "     abstract strategy  action / dexterity  adventure  age of reason  \\\n",
       "0                  0.0                 0.0        1.0            0.0   \n",
       "1                  0.0                 0.0        0.0            0.0   \n",
       "2                  0.0                 0.0        0.0            0.0   \n",
       "3                  0.0                 0.0        0.0            1.0   \n",
       "4                  0.0                 0.0        0.0            0.0   \n",
       "..                 ...                 ...        ...            ...   \n",
       "360                0.0                 0.0        0.0            0.0   \n",
       "361                0.0                 0.0        0.0            0.0   \n",
       "362                0.0                 0.0        0.0            0.0   \n",
       "363                0.0                 0.0        1.0            0.0   \n",
       "364                0.0                 0.0        0.0            0.0   \n",
       "\n",
       "     american civil war  american indian wars  american revolutionary war  \\\n",
       "0                   0.0                   0.0                         0.0   \n",
       "1                   0.0                   0.0                         0.0   \n",
       "2                   0.0                   0.0                         0.0   \n",
       "3                   0.0                   0.0                         0.0   \n",
       "4                   0.0                   0.0                         0.0   \n",
       "..                  ...                   ...                         ...   \n",
       "360                 0.0                   0.0                         0.0   \n",
       "361                 0.0                   0.0                         0.0   \n",
       "362                 0.0                   0.0                         0.0   \n",
       "363                 0.0                   0.0                         0.0   \n",
       "364                 0.0                   0.0                         0.0   \n",
       "\n",
       "     american west  ancient  animals  ...       state  state_changed_at  \\\n",
       "0              0.0      0.0      0.0  ...  successful      1.443629e+09   \n",
       "1              0.0      0.0      0.0  ...        live      1.444747e+09   \n",
       "2              0.0      0.0      0.0  ...  successful      1.426633e+09   \n",
       "3              0.0      0.0      0.0  ...  successful      1.445029e+09   \n",
       "4              0.0      0.0      0.0  ...        live      1.488917e+09   \n",
       "..             ...      ...      ...  ...         ...               ...   \n",
       "360            0.0      0.0      0.0  ...        live      1.508437e+09   \n",
       "361            0.0      1.0      0.0  ...  successful      1.479496e+09   \n",
       "362            1.0      0.0      0.0  ...  successful      1.364958e+09   \n",
       "363            0.0      0.0      0.0  ...  successful      1.481324e+09   \n",
       "364            0.0      0.0      0.0  ...        live      1.501157e+09   \n",
       "\n",
       "     static_usd_rate  unread_messages_count  unseen_activity_count  \\\n",
       "0           1.000000                    NaN                    NaN   \n",
       "1           1.000000                    NaN                    NaN   \n",
       "2           1.000000                    NaN                    NaN   \n",
       "3           1.000000                    NaN                    NaN   \n",
       "4           1.000000                    NaN                    NaN   \n",
       "..               ...                    ...                    ...   \n",
       "360         1.000000                    NaN                    NaN   \n",
       "361         1.000000                    NaN                    NaN   \n",
       "362         1.000000                    NaN                    NaN   \n",
       "363         1.000000                    NaN                    NaN   \n",
       "364         1.164382                    NaN                    NaN   \n",
       "\n",
       "                                                  urls   usd_pledged  \\\n",
       "0    {\"web\":{\"project\":\"https://www.kickstarter.com...  3.861040e+05   \n",
       "1    {\"web\":{\"project\":\"https://www.kickstarter.com...  1.348585e+06   \n",
       "2    {\"web\":{\"project\":\"https://www.kickstarter.com...  9.056820e+05   \n",
       "3    {\"web\":{\"project\":\"https://www.kickstarter.com...  8.417600e+04   \n",
       "4    {\"web\":{\"project\":\"https://www.kickstarter.com...  2.221682e+06   \n",
       "..                                                 ...           ...   \n",
       "360  {\"web\":{\"project\":\"https://www.kickstarter.com...  6.063800e+04   \n",
       "361  {\"web\":{\"project\":\"https://www.kickstarter.com...  1.904500e+04   \n",
       "362  {\"web\":{\"project\":\"https://www.kickstarter.com...  5.049715e+04   \n",
       "363  {\"web\":{\"project\":\"https://www.kickstarter.com...  8.988600e+04   \n",
       "364  {\"web\":{\"project\":\"https://www.kickstarter.com...  3.217047e+04   \n",
       "\n",
       "     usd_type  _merge  top10%  \n",
       "0         NaN    both       1  \n",
       "1         NaN    both       1  \n",
       "2         NaN    both       1  \n",
       "3         NaN    both       1  \n",
       "4         NaN    both       1  \n",
       "..        ...     ...     ...  \n",
       "360  domestic    both       0  \n",
       "361       NaN    both       0  \n",
       "362       NaN    both       0  \n",
       "363       NaN    both       0  \n",
       "364       NaN    both       0  \n",
       "\n",
       "[365 rows x 198 columns]"
      ]
     },
     "execution_count": 4,
     "metadata": {},
     "output_type": "execute_result"
    }
   ],
   "source": [
    "df"
   ]
  },
  {
   "cell_type": "markdown",
   "metadata": {},
   "source": [
    "### Feature Selection"
   ]
  },
  {
   "cell_type": "markdown",
   "metadata": {},
   "source": [
    "To begin the feature selection process, we make a correlation table."
   ]
  },
  {
   "cell_type": "code",
   "execution_count": 5,
   "metadata": {},
   "outputs": [
    {
     "name": "stdout",
     "output_type": "stream",
     "text": [
      "top10%         1.000000\n",
      "rank           0.833500\n",
      "geek_rating    0.754499\n",
      "owned          0.398630\n",
      "num_votes      0.369392\n",
      "Name: top10%, dtype: float64\n"
     ]
    }
   ],
   "source": [
    "corr_matrix = df.corr().abs()\n",
    "print(corr_matrix['top10%'].sort_values(ascending=False).head())"
   ]
  },
  {
   "cell_type": "markdown",
   "metadata": {},
   "source": [
    "We understand that rank and geek_rating are highly correlated with a game being in the top 10%, so we remove them from the features we are considering"
   ]
  },
  {
   "cell_type": "code",
   "execution_count": 6,
   "metadata": {},
   "outputs": [],
   "source": [
    "df.drop(columns = ['rank', 'geek_rating'], inplace = True)"
   ]
  },
  {
   "cell_type": "markdown",
   "metadata": {},
   "source": [
    "Considering our target audience of board game publishers, we'll also remove any features that in reality will come in after a Kickstarter is done, like number of people who own it, number of votes, etc. We will leave in 'weight' as a proxy for the complexity of the game."
   ]
  },
  {
   "cell_type": "code",
   "execution_count": 7,
   "metadata": {},
   "outputs": [],
   "source": [
    "df.drop(columns = ['owned', 'num_votes', 'year'], inplace = True)"
   ]
  },
  {
   "cell_type": "markdown",
   "metadata": {},
   "source": [
    "Then, we drop columns that I don't think will be useful for my problem, redudant values, hyperlinks, countries, exchange rates, # of friends of the project, as well as artifacts from the data cleaning eg. _merge:\n"
   ]
  },
  {
   "cell_type": "code",
   "execution_count": 8,
   "metadata": {},
   "outputs": [],
   "source": [
    "df.drop(columns = ['bgg_url', 'blurb', 'game_id', 'id', 'is_backing', 'is_starrable', 'is_starred', 'slug', 'urls', 'usd_type', 'category_x', 'category_y', 'created_at', 'creator',  'currency_trailing_code', 'current_currency',  'currency_symbol', 'deadline', 'disable_communication', 'friends', 'fx_rate', 'image_url', '_merge'], inplace = True)"
   ]
  },
  {
   "cell_type": "markdown",
   "metadata": {},
   "source": [
    "This leaves us with a much smaller list, with many columns focused on the categories (game themes) and game mechanics, which a publisher will have more control of."
   ]
  },
  {
   "cell_type": "code",
   "execution_count": 9,
   "metadata": {},
   "outputs": [
    {
     "data": {
      "text/plain": [
       "['abstract strategy',\n",
       " 'action / dexterity',\n",
       " 'adventure',\n",
       " 'age of reason',\n",
       " 'american civil war',\n",
       " 'american indian wars',\n",
       " 'american revolutionary war',\n",
       " 'american west',\n",
       " 'ancient',\n",
       " 'animals',\n",
       " 'arabian',\n",
       " 'aviation / flight',\n",
       " 'bluffing',\n",
       " 'book',\n",
       " 'card game',\n",
       " \"children's game\",\n",
       " 'city building',\n",
       " 'civil war',\n",
       " 'civilization',\n",
       " 'collectible components',\n",
       " 'comic book / strip',\n",
       " 'deduction',\n",
       " 'dice',\n",
       " 'economic',\n",
       " 'educational',\n",
       " 'electronic',\n",
       " 'environmental',\n",
       " 'expansion for base-game',\n",
       " 'exploration',\n",
       " 'fantasy',\n",
       " 'farming',\n",
       " 'fighting',\n",
       " 'game system',\n",
       " 'horror',\n",
       " 'humor',\n",
       " 'industry / manufacturing',\n",
       " 'korean war',\n",
       " 'mafia',\n",
       " 'math',\n",
       " 'mature / adult',\n",
       " 'maze',\n",
       " 'medical',\n",
       " 'medieval',\n",
       " 'memory',\n",
       " 'miniatures',\n",
       " 'modern warfare',\n",
       " 'movies / tv / radio theme',\n",
       " 'murder/mystery',\n",
       " 'music',\n",
       " 'mythology',\n",
       " 'napoleonic',\n",
       " 'nautical',\n",
       " 'negotiation',\n",
       " 'none',\n",
       " 'novel-based',\n",
       " 'number',\n",
       " 'party game',\n",
       " 'pike and shot',\n",
       " 'pirates',\n",
       " 'political',\n",
       " 'post-napoleonic',\n",
       " 'prehistoric',\n",
       " 'print & play',\n",
       " 'puzzle',\n",
       " 'racing',\n",
       " 'real-time',\n",
       " 'religious',\n",
       " 'renaissance',\n",
       " 'science fiction',\n",
       " 'space exploration',\n",
       " 'spies/secret agents',\n",
       " 'sports',\n",
       " 'territory building',\n",
       " 'trains',\n",
       " 'transportation',\n",
       " 'travel',\n",
       " 'trivia',\n",
       " 'video game theme',\n",
       " 'vietnam war',\n",
       " 'wargame',\n",
       " 'word game',\n",
       " 'world war i',\n",
       " 'world war ii',\n",
       " 'zombies',\n",
       " 'acting',\n",
       " 'action / movement programming',\n",
       " 'action point allowance system',\n",
       " 'area control / area influence',\n",
       " 'area enclosure',\n",
       " 'area movement',\n",
       " 'area-impulse',\n",
       " 'auction/bidding',\n",
       " 'betting/wagering',\n",
       " 'campaign / battle card driven',\n",
       " 'card drafting',\n",
       " 'chit-pull system',\n",
       " 'co-operative play',\n",
       " 'commodity speculation',\n",
       " 'crayon rail system',\n",
       " 'deck / pool building',\n",
       " 'dice rolling',\n",
       " 'grid movement',\n",
       " 'hand management',\n",
       " 'hex-and-counter',\n",
       " 'line drawing',\n",
       " 'memory.1',\n",
       " 'modular board',\n",
       " 'none.1',\n",
       " 'paper-and-pencil',\n",
       " 'partnerships',\n",
       " 'pattern building',\n",
       " 'pattern recognition',\n",
       " 'pick-up and deliver',\n",
       " 'player elimination',\n",
       " 'point to point movement',\n",
       " 'press your luck',\n",
       " 'rock-paper-scissors',\n",
       " 'role playing',\n",
       " 'roll / spin and move',\n",
       " 'route/network building',\n",
       " 'secret unit deployment',\n",
       " 'set collection',\n",
       " 'simulation',\n",
       " 'simultaneous action selection',\n",
       " 'singing',\n",
       " 'stock holding',\n",
       " 'storytelling',\n",
       " 'take that',\n",
       " 'tile placement',\n",
       " 'time track',\n",
       " 'trading',\n",
       " 'trick-taking',\n",
       " 'variable phase order',\n",
       " 'variable player powers',\n",
       " 'voting',\n",
       " 'worker placement',\n",
       " 'names',\n",
       " 'min_players',\n",
       " 'max_players',\n",
       " 'avg_time',\n",
       " 'min_time',\n",
       " 'max_time',\n",
       " 'avg_rating',\n",
       " 'age',\n",
       " 'mechanic',\n",
       " 'designer',\n",
       " 'weight',\n",
       " 'name',\n",
       " 'backers_count',\n",
       " 'converted_pledged_amount',\n",
       " 'country',\n",
       " 'currency',\n",
       " 'goal',\n",
       " 'last_update_published_at',\n",
       " 'launched_at',\n",
       " 'location',\n",
       " 'permissions',\n",
       " 'photo',\n",
       " 'pledged',\n",
       " 'profile',\n",
       " 'source_url',\n",
       " 'spotlight',\n",
       " 'staff_pick',\n",
       " 'state',\n",
       " 'state_changed_at',\n",
       " 'static_usd_rate',\n",
       " 'unread_messages_count',\n",
       " 'unseen_activity_count',\n",
       " 'usd_pledged',\n",
       " 'top10%']"
      ]
     },
     "execution_count": 9,
     "metadata": {},
     "output_type": "execute_result"
    }
   ],
   "source": [
    "# I extract the list of mechanics, categories, and other remaining values using 'list(df.columns.values)''\n",
    "list(df.columns.values)"
   ]
  },
  {
   "cell_type": "code",
   "execution_count": 10,
   "metadata": {},
   "outputs": [],
   "source": [
    "cats = df[['abstract strategy', 'action / dexterity', 'adventure', 'age of reason', 'american civil war', 'american indian wars', 'american revolutionary war',\n",
    " 'american west', 'ancient', 'animals', 'arabian', 'aviation / flight', 'bluffing', 'book', 'card game', \"children's game\", 'city building',\n",
    " 'civil war', 'civilization', 'collectible components', 'comic book / strip', 'deduction', 'dice', 'economic', 'educational', 'electronic',\n",
    " 'environmental', 'expansion for base-game', 'exploration', 'fantasy', 'farming', 'fighting', 'game system', 'horror',\n",
    " 'humor', 'industry / manufacturing', 'korean war', 'mafia', 'math', 'mature / adult', 'maze', 'medical', 'medieval', 'memory',\n",
    " 'miniatures', 'modern warfare', 'movies / tv / radio theme', 'murder/mystery', 'music', 'mythology', 'napoleonic', 'nautical',\n",
    " 'negotiation', 'none', 'novel-based', 'number', 'party game', 'pike and shot', 'pirates', 'political', 'post-napoleonic', 'prehistoric',\n",
    " 'print & play', 'puzzle', 'racing', 'real-time', 'religious', 'renaissance', 'science fiction', 'space exploration', 'spies/secret agents',\n",
    " 'sports', 'territory building', 'trains', 'transportation', 'travel', 'trivia', 'video game theme', 'vietnam war', 'wargame',\n",
    " 'word game', 'world war i', 'world war ii', 'zombies', 'top10%']]"
   ]
  },
  {
   "cell_type": "markdown",
   "metadata": {},
   "source": [
    "With this more focused list, let's look at the correlation of just the categories to being in the top 10%"
   ]
  },
  {
   "cell_type": "code",
   "execution_count": 11,
   "metadata": {},
   "outputs": [
    {
     "name": "stdout",
     "output_type": "stream",
     "text": [
      "top10%                       1.000000\n",
      "miniatures                   0.149615\n",
      "negotiation                  0.137110\n",
      "zombies                      0.127447\n",
      "puzzle                       0.111067\n",
      "civilization                 0.109766\n",
      "murder/mystery               0.106887\n",
      "fantasy                      0.106062\n",
      "economic                     0.098105\n",
      "bluffing                     0.096702\n",
      "spies/secret agents          0.093492\n",
      "memory                       0.090434\n",
      "political                    0.090272\n",
      "video game theme             0.089491\n",
      "deduction                    0.085311\n",
      "action / dexterity           0.079720\n",
      "aviation / flight            0.078210\n",
      "horror                       0.074847\n",
      "fighting                     0.069423\n",
      "modern warfare               0.069284\n",
      "exploration                  0.069010\n",
      "trains                       0.065118\n",
      "collectible components       0.063770\n",
      "movies / tv / radio theme    0.063770\n",
      "mafia                        0.063296\n",
      "farming                      0.063296\n",
      "age of reason                0.061009\n",
      "post-napoleonic              0.061009\n",
      "korean war                   0.061009\n",
      "american indian wars         0.061009\n",
      "Name: top10%, dtype: float64\n"
     ]
    }
   ],
   "source": [
    "corr_matrix = cats.corr().abs()\n",
    "print(corr_matrix['top10%'].sort_values(ascending=False).head(30))"
   ]
  },
  {
   "cell_type": "code",
   "execution_count": 12,
   "metadata": {},
   "outputs": [],
   "source": [
    "mechs = df[['acting', 'action / movement programming', 'action point allowance system', 'area control / area influence', 'area enclosure',\n",
    " 'area movement', 'area-impulse', 'auction/bidding', 'betting/wagering', 'campaign / battle card driven', 'card drafting', 'chit-pull system',\n",
    " 'co-operative play', 'commodity speculation', 'crayon rail system', 'deck / pool building', 'dice rolling', 'grid movement', 'hand management',\n",
    " 'hex-and-counter', 'line drawing', 'memory.1', 'modular board', 'none.1', 'paper-and-pencil', 'partnerships', 'pattern building', 'pattern recognition',\n",
    " 'pick-up and deliver', 'player elimination', 'point to point movement', 'press your luck', 'rock-paper-scissors', 'role playing', 'roll / spin and move',\n",
    " 'route/network building', 'secret unit deployment', 'set collection', 'simulation', 'simultaneous action selection', 'singing',\n",
    " 'stock holding', 'storytelling', 'take that', 'tile placement', 'time track', 'trading', 'trick-taking', 'variable phase order', 'variable player powers',\n",
    " 'voting', 'worker placement', 'top10%']]"
   ]
  },
  {
   "cell_type": "markdown",
   "metadata": {},
   "source": [
    "With this more focused list, let's look at the correlation of mechanics to being in the top 10% of BGG"
   ]
  },
  {
   "cell_type": "code",
   "execution_count": 13,
   "metadata": {},
   "outputs": [
    {
     "name": "stdout",
     "output_type": "stream",
     "text": [
      "top10%                           1.000000\n",
      "variable player powers           0.227256\n",
      "worker placement                 0.158571\n",
      "action point allowance system    0.157275\n",
      "voting                           0.127447\n",
      "simulation                       0.127447\n",
      "variable phase order             0.125749\n",
      "area movement                    0.106156\n",
      "hex-and-counter                  0.101249\n",
      "pattern building                 0.096233\n",
      "card drafting                    0.087170\n",
      "chit-pull system                 0.078210\n",
      "area enclosure                   0.078210\n",
      "pattern recognition              0.078210\n",
      "trick-taking                     0.078210\n",
      "route/network building           0.076282\n",
      "point to point movement          0.073437\n",
      "area control / area influence    0.070285\n",
      "co-operative play                0.069284\n",
      "commodity speculation            0.067476\n",
      "stock holding                    0.065149\n",
      "press your luck                  0.063120\n",
      "partnerships                     0.062801\n",
      "dice rolling                     0.056421\n",
      "acting                           0.053564\n",
      "paper-and-pencil                 0.053564\n",
      "none.1                           0.053564\n",
      "set collection                   0.052419\n",
      "line drawing                     0.045030\n",
      "auction/bidding                  0.043984\n",
      "Name: top10%, dtype: float64\n"
     ]
    }
   ],
   "source": [
    "corr_matrix = mechs.corr().abs()\n",
    "print(corr_matrix['top10%'].sort_values(ascending=False).head(30))"
   ]
  },
  {
   "cell_type": "markdown",
   "metadata": {},
   "source": [
    "With this more focused list, let's look at the correlation of other features to being in the top 10% of BGG"
   ]
  },
  {
   "cell_type": "code",
   "execution_count": 16,
   "metadata": {},
   "outputs": [],
   "source": [
    "feats = df[['min_players', 'max_players', 'avg_time', 'min_time', 'max_time', 'avg_rating', 'age', 'mechanic', 'designer', 'weight',\n",
    " 'backers_count', 'converted_pledged_amount', 'country', 'currency', 'goal', 'last_update_published_at',\n",
    " 'launched_at', 'location', 'permissions', 'photo', 'pledged', 'profile', 'source_url', 'spotlight', 'staff_pick', 'state', 'state_changed_at',\n",
    " 'static_usd_rate', 'unread_messages_count', 'unseen_activity_count', 'usd_pledged', 'top10%']]"
   ]
  },
  {
   "cell_type": "code",
   "execution_count": 17,
   "metadata": {},
   "outputs": [
    {
     "name": "stdout",
     "output_type": "stream",
     "text": [
      "top10%                      1.000000\n",
      "avg_rating                  0.337752\n",
      "weight                      0.213283\n",
      "age                         0.162547\n",
      "usd_pledged                 0.154286\n",
      "pledged                     0.152293\n",
      "max_time                    0.126873\n",
      "avg_time                    0.123591\n",
      "goal                        0.104336\n",
      "converted_pledged_amount    0.076813\n",
      "min_time                    0.075545\n",
      "state_changed_at            0.070641\n",
      "launched_at                 0.068040\n",
      "backers_count               0.051107\n",
      "static_usd_rate             0.026277\n",
      "max_players                 0.005590\n",
      "min_players                 0.004581\n",
      "spotlight                   0.001667\n",
      "last_update_published_at         NaN\n",
      "unread_messages_count            NaN\n",
      "unseen_activity_count            NaN\n",
      "Name: top10%, dtype: float64\n"
     ]
    }
   ],
   "source": [
    "corr_matrix = feats.corr().abs()\n",
    "print(corr_matrix['top10%'].sort_values(ascending=False).head(30))"
   ]
  },
  {
   "cell_type": "markdown",
   "metadata": {},
   "source": [
    "Based on these findings, I will select the top 3 features each of the categories, mechanics, and the other KS and BGG features for our models."
   ]
  },
  {
   "cell_type": "code",
   "execution_count": 18,
   "metadata": {},
   "outputs": [],
   "source": [
    "picks = df[['miniatures', 'negotiation', 'zombies', 'variable player powers', 'worker placement', 'action point allowance system',\n",
    " 'weight', 'avg_time', 'goal']]"
   ]
  },
  {
   "cell_type": "markdown",
   "metadata": {},
   "source": [
    "### Final Feature Selection, Train Test Split, StandardScaler and Baseline"
   ]
  },
  {
   "cell_type": "code",
   "execution_count": 19,
   "metadata": {},
   "outputs": [],
   "source": [
    "X = picks\n",
    "y = df['top10%']\n",
    "X_train, X_test, y_train, y_test = train_test_split(X, y, random_state=42)"
   ]
  },
  {
   "cell_type": "code",
   "execution_count": 20,
   "metadata": {},
   "outputs": [],
   "source": [
    "# Fit and transform the StandardScaler to the train data, and transforming the test data.\n",
    "sc = StandardScaler()\n",
    "X_train = sc.fit_transform(X_train)\n",
    "X_test = sc.transform(X_test)"
   ]
  },
  {
   "cell_type": "markdown",
   "metadata": {},
   "source": [
    "##### Baseline"
   ]
  },
  {
   "cell_type": "code",
   "execution_count": 21,
   "metadata": {},
   "outputs": [
    {
     "data": {
      "text/plain": [
       "0    0.575342\n",
       "1    0.424658\n",
       "Name: top10%, dtype: float64"
      ]
     },
     "execution_count": 21,
     "metadata": {},
     "output_type": "execute_result"
    }
   ],
   "source": [
    "# This is the baseline score that I'm trying to beat\n",
    "pd.value_counts(df['top10%'], normalize=True)"
   ]
  },
  {
   "cell_type": "markdown",
   "metadata": {},
   "source": [
    "## Classifiers"
   ]
  },
  {
   "cell_type": "markdown",
   "metadata": {},
   "source": [
    "#### Logistic Regression"
   ]
  },
  {
   "cell_type": "code",
   "execution_count": 22,
   "metadata": {},
   "outputs": [],
   "source": [
    "logreg = LogisticRegression(C = 1.0)"
   ]
  },
  {
   "cell_type": "code",
   "execution_count": 23,
   "metadata": {},
   "outputs": [
    {
     "name": "stderr",
     "output_type": "stream",
     "text": [
      "C:\\ProgramData\\Anaconda3\\lib\\site-packages\\sklearn\\linear_model\\logistic.py:432: FutureWarning: Default solver will be changed to 'lbfgs' in 0.22. Specify a solver to silence this warning.\n",
      "  FutureWarning)\n"
     ]
    },
    {
     "data": {
      "text/plain": [
       "LogisticRegression(C=1.0, class_weight=None, dual=False, fit_intercept=True,\n",
       "                   intercept_scaling=1, l1_ratio=None, max_iter=100,\n",
       "                   multi_class='warn', n_jobs=None, penalty='l2',\n",
       "                   random_state=None, solver='warn', tol=0.0001, verbose=0,\n",
       "                   warm_start=False)"
      ]
     },
     "execution_count": 23,
     "metadata": {},
     "output_type": "execute_result"
    }
   ],
   "source": [
    "logreg.fit(X_train, y_train)"
   ]
  },
  {
   "cell_type": "code",
   "execution_count": 24,
   "metadata": {},
   "outputs": [
    {
     "name": "stdout",
     "output_type": "stream",
     "text": [
      "Logistic Regression training accuracy 0.673992673992674\n",
      "Logistic Regression testing accuracy 0.6521739130434783\n"
     ]
    }
   ],
   "source": [
    "print(\"Logistic Regression training accuracy \" + str(logreg.score(X_train, y_train)))\n",
    "print(\"Logistic Regression testing accuracy \" + str(logreg.score(X_test, y_test)))"
   ]
  },
  {
   "cell_type": "markdown",
   "metadata": {},
   "source": [
    "#### Ridge Classifier"
   ]
  },
  {
   "cell_type": "code",
   "execution_count": 25,
   "metadata": {},
   "outputs": [],
   "source": [
    "# Instantiating the Ridge Classifier\n",
    "ridgeclass = RidgeClassifier(alpha=1)"
   ]
  },
  {
   "cell_type": "code",
   "execution_count": 26,
   "metadata": {},
   "outputs": [
    {
     "data": {
      "text/plain": [
       "RidgeClassifier(alpha=1, class_weight=None, copy_X=True, fit_intercept=True,\n",
       "                max_iter=None, normalize=False, random_state=None,\n",
       "                solver='auto', tol=0.001)"
      ]
     },
     "execution_count": 26,
     "metadata": {},
     "output_type": "execute_result"
    }
   ],
   "source": [
    "# Fitting the Ridge Classifier\n",
    "ridgeclass.fit(X_train, y_train)"
   ]
  },
  {
   "cell_type": "code",
   "execution_count": 27,
   "metadata": {},
   "outputs": [
    {
     "name": "stdout",
     "output_type": "stream",
     "text": [
      "0.673992673992674\n",
      "0.6521739130434783\n"
     ]
    }
   ],
   "source": [
    "# Evaluating our Ridge Regression model using R2.\n",
    "print(ridgeclass.score(X_train, y_train))\n",
    "print(ridgeclass.score(X_test, y_test))"
   ]
  },
  {
   "cell_type": "markdown",
   "metadata": {},
   "source": [
    "#### KNearest Neighbors (k = 3, 5, 10)"
   ]
  },
  {
   "cell_type": "code",
   "execution_count": 33,
   "metadata": {},
   "outputs": [
    {
     "data": {
      "text/plain": [
       "0.7985347985347986"
      ]
     },
     "execution_count": 33,
     "metadata": {},
     "output_type": "execute_result"
    }
   ],
   "source": [
    "# k = 3\n",
    "k3class = KNeighborsClassifier(n_neighbors = 3)\n",
    "k3class.fit(X_train, y_train)\n",
    "k3class.score(X_train, y_train)"
   ]
  },
  {
   "cell_type": "code",
   "execution_count": 34,
   "metadata": {},
   "outputs": [
    {
     "data": {
      "text/plain": [
       "0.6086956521739131"
      ]
     },
     "execution_count": 34,
     "metadata": {},
     "output_type": "execute_result"
    }
   ],
   "source": [
    "k3class.score(X_test, y_test)"
   ]
  },
  {
   "cell_type": "code",
   "execution_count": 35,
   "metadata": {},
   "outputs": [
    {
     "data": {
      "text/plain": [
       "0.7545787545787546"
      ]
     },
     "execution_count": 35,
     "metadata": {},
     "output_type": "execute_result"
    }
   ],
   "source": [
    "# k = 5\n",
    "k5class = KNeighborsClassifier(n_neighbors = 5)\n",
    "k5class.fit(X_train, y_train)\n",
    "k5class.score(X_train, y_train)"
   ]
  },
  {
   "cell_type": "code",
   "execution_count": 36,
   "metadata": {},
   "outputs": [
    {
     "data": {
      "text/plain": [
       "0.5869565217391305"
      ]
     },
     "execution_count": 36,
     "metadata": {},
     "output_type": "execute_result"
    }
   ],
   "source": [
    "k5class.score(X_test, y_test)"
   ]
  },
  {
   "cell_type": "code",
   "execution_count": 37,
   "metadata": {},
   "outputs": [
    {
     "data": {
      "text/plain": [
       "0.6996336996336996"
      ]
     },
     "execution_count": 37,
     "metadata": {},
     "output_type": "execute_result"
    }
   ],
   "source": [
    "# k = 10\n",
    "k10class = KNeighborsClassifier(n_neighbors = 10)\n",
    "k10class.fit(X_train, y_train)\n",
    "k10class.score(X_train, y_train)"
   ]
  },
  {
   "cell_type": "code",
   "execution_count": 38,
   "metadata": {},
   "outputs": [
    {
     "data": {
      "text/plain": [
       "0.6304347826086957"
      ]
     },
     "execution_count": 38,
     "metadata": {},
     "output_type": "execute_result"
    }
   ],
   "source": [
    "k10class.score(X_test, y_test)"
   ]
  },
  {
   "cell_type": "markdown",
   "metadata": {},
   "source": [
    "#### Decision Trees Classifier"
   ]
  },
  {
   "cell_type": "code",
   "execution_count": 39,
   "metadata": {},
   "outputs": [],
   "source": [
    "dtclass = DecisionTreeClassifier(max_depth = 7,\n",
    "                            min_samples_split = 7,\n",
    "                            min_samples_leaf = 5,\n",
    "                            random_state = 42)"
   ]
  },
  {
   "cell_type": "code",
   "execution_count": 40,
   "metadata": {},
   "outputs": [
    {
     "data": {
      "text/plain": [
       "DecisionTreeClassifier(class_weight=None, criterion='gini', max_depth=7,\n",
       "                       max_features=None, max_leaf_nodes=None,\n",
       "                       min_impurity_decrease=0.0, min_impurity_split=None,\n",
       "                       min_samples_leaf=5, min_samples_split=7,\n",
       "                       min_weight_fraction_leaf=0.0, presort=False,\n",
       "                       random_state=42, splitter='best')"
      ]
     },
     "execution_count": 40,
     "metadata": {},
     "output_type": "execute_result"
    }
   ],
   "source": [
    "dtclass.fit(X_train, y_train)"
   ]
  },
  {
   "cell_type": "code",
   "execution_count": 41,
   "metadata": {},
   "outputs": [
    {
     "data": {
      "text/plain": [
       "0.7985347985347986"
      ]
     },
     "execution_count": 41,
     "metadata": {},
     "output_type": "execute_result"
    }
   ],
   "source": [
    "dtclass.score(X_train, y_train)"
   ]
  },
  {
   "cell_type": "code",
   "execution_count": 42,
   "metadata": {},
   "outputs": [
    {
     "data": {
      "text/plain": [
       "0.5978260869565217"
      ]
     },
     "execution_count": 42,
     "metadata": {},
     "output_type": "execute_result"
    }
   ],
   "source": [
    "dtclass.score(X_test, y_test)"
   ]
  },
  {
   "cell_type": "markdown",
   "metadata": {},
   "source": [
    "#### Bagged Decision Trees Classifier"
   ]
  },
  {
   "cell_type": "code",
   "execution_count": 43,
   "metadata": {},
   "outputs": [],
   "source": [
    "bdtclass = BaggingClassifier(random_state=42)"
   ]
  },
  {
   "cell_type": "code",
   "execution_count": 44,
   "metadata": {},
   "outputs": [
    {
     "data": {
      "text/plain": [
       "BaggingClassifier(base_estimator=None, bootstrap=True, bootstrap_features=False,\n",
       "                  max_features=1.0, max_samples=1.0, n_estimators=10,\n",
       "                  n_jobs=None, oob_score=False, random_state=42, verbose=0,\n",
       "                  warm_start=False)"
      ]
     },
     "execution_count": 44,
     "metadata": {},
     "output_type": "execute_result"
    }
   ],
   "source": [
    "bdtclass.fit(X_train, y_train)"
   ]
  },
  {
   "cell_type": "code",
   "execution_count": 45,
   "metadata": {},
   "outputs": [
    {
     "data": {
      "text/plain": [
       "0.967032967032967"
      ]
     },
     "execution_count": 45,
     "metadata": {},
     "output_type": "execute_result"
    }
   ],
   "source": [
    "bdtclass.score(X_train, y_train)"
   ]
  },
  {
   "cell_type": "code",
   "execution_count": 46,
   "metadata": {},
   "outputs": [
    {
     "data": {
      "text/plain": [
       "0.6413043478260869"
      ]
     },
     "execution_count": 46,
     "metadata": {},
     "output_type": "execute_result"
    }
   ],
   "source": [
    "bdtclass.score(X_test, y_test)"
   ]
  },
  {
   "cell_type": "markdown",
   "metadata": {},
   "source": [
    "### Conclusions and the Improvements to be Made"
   ]
  },
  {
   "cell_type": "markdown",
   "metadata": {},
   "source": [
    "Given that I have a 'client' in mind going into this exercise, and that I want the client to have actionable knowledge, I value interpretability over a high score. It seems that our Logistic Regression does best based on the above metric. The Logistic Regression model displays what I think is the decent score (low overfitting, improvements over the baseline by around 20 percent), and as a model has high interpretability. "
   ]
  },
  {
   "cell_type": "code",
   "execution_count": 51,
   "metadata": {},
   "outputs": [
    {
     "name": "stdout",
     "output_type": "stream",
     "text": [
      "Logistic Regression training accuracy 0.673992673992674\n",
      "Logistic Regression testing accuracy 0.6521739130434783\n"
     ]
    }
   ],
   "source": [
    "print(\"Logistic Regression training accuracy \" + str(logreg.score(X_train, y_train)))\n",
    "print(\"Logistic Regression testing accuracy \" + str(logreg.score(X_test, y_test)))"
   ]
  },
  {
   "cell_type": "markdown",
   "metadata": {},
   "source": [
    "Still, there's much to be improved upon. I would like to get more recent BGG and KS data to get a better sample of data. I would also consider getting board game sales data to even better represent long term success."
   ]
  }
 ],
 "metadata": {
  "kernelspec": {
   "display_name": "Python 3",
   "language": "python",
   "name": "python3"
  },
  "language_info": {
   "codemirror_mode": {
    "name": "ipython",
    "version": 3
   },
   "file_extension": ".py",
   "mimetype": "text/x-python",
   "name": "python",
   "nbconvert_exporter": "python",
   "pygments_lexer": "ipython3",
   "version": "3.7.4"
  }
 },
 "nbformat": 4,
 "nbformat_minor": 4
}
