{
 "cells": [
  {
   "cell_type": "code",
   "execution_count": 1,
   "metadata": {},
   "outputs": [],
   "source": [
    "import pandas as pd"
   ]
  },
  {
   "cell_type": "code",
   "execution_count": 2,
   "metadata": {},
   "outputs": [],
   "source": [
    "# \"I had to add in the engine argument to properly read the files\"\n",
    "df2018 = pd.read_csv('bgg_db_2018_01.csv', engine = 'python')\n",
    "df2017 = pd.read_csv('bgg_db_2017_04.csv', engine = 'python')"
   ]
  },
  {
   "cell_type": "code",
   "execution_count": 3,
   "metadata": {},
   "outputs": [
    {
     "data": {
      "text/html": [
       "<div>\n",
       "<style scoped>\n",
       "    .dataframe tbody tr th:only-of-type {\n",
       "        vertical-align: middle;\n",
       "    }\n",
       "\n",
       "    .dataframe tbody tr th {\n",
       "        vertical-align: top;\n",
       "    }\n",
       "\n",
       "    .dataframe thead th {\n",
       "        text-align: right;\n",
       "    }\n",
       "</style>\n",
       "<table border=\"1\" class=\"dataframe\">\n",
       "  <thead>\n",
       "    <tr style=\"text-align: right;\">\n",
       "      <th></th>\n",
       "      <th>rank</th>\n",
       "      <th>bgg_url</th>\n",
       "      <th>game_id</th>\n",
       "      <th>names</th>\n",
       "      <th>min_players</th>\n",
       "      <th>max_players</th>\n",
       "      <th>avg_time</th>\n",
       "      <th>min_time</th>\n",
       "      <th>max_time</th>\n",
       "      <th>year</th>\n",
       "      <th>avg_rating</th>\n",
       "      <th>geek_rating</th>\n",
       "      <th>num_votes</th>\n",
       "      <th>image_url</th>\n",
       "      <th>age</th>\n",
       "      <th>mechanic</th>\n",
       "      <th>owned</th>\n",
       "      <th>category</th>\n",
       "      <th>designer</th>\n",
       "      <th>weight</th>\n",
       "    </tr>\n",
       "  </thead>\n",
       "  <tbody>\n",
       "    <tr>\n",
       "      <td>0</td>\n",
       "      <td>1</td>\n",
       "      <td>https://boardgamegeek.com/boardgame/161936/pan...</td>\n",
       "      <td>161936</td>\n",
       "      <td>Pandemic Legacy: Season 1</td>\n",
       "      <td>2</td>\n",
       "      <td>4</td>\n",
       "      <td>60</td>\n",
       "      <td>60</td>\n",
       "      <td>60</td>\n",
       "      <td>2015</td>\n",
       "      <td>8.66905</td>\n",
       "      <td>8.48904</td>\n",
       "      <td>18009</td>\n",
       "      <td>https://cf.geekdo-images.com/images/pic2452831...</td>\n",
       "      <td>13</td>\n",
       "      <td>Action Point Allowance System, Co-operative Pl...</td>\n",
       "      <td>29472</td>\n",
       "      <td>Environmental, Medical</td>\n",
       "      <td>Rob Daviau, Matt Leacock</td>\n",
       "      <td>2.8076</td>\n",
       "    </tr>\n",
       "    <tr>\n",
       "      <td>1</td>\n",
       "      <td>2</td>\n",
       "      <td>https://boardgamegeek.com/boardgame/182028/thr...</td>\n",
       "      <td>182028</td>\n",
       "      <td>Through the Ages: A New Story of Civilization</td>\n",
       "      <td>2</td>\n",
       "      <td>4</td>\n",
       "      <td>240</td>\n",
       "      <td>180</td>\n",
       "      <td>240</td>\n",
       "      <td>2015</td>\n",
       "      <td>8.72977</td>\n",
       "      <td>8.30744</td>\n",
       "      <td>7309</td>\n",
       "      <td>https://cf.geekdo-images.com/images/pic2663291...</td>\n",
       "      <td>14</td>\n",
       "      <td>Action Point Allowance System, Auction/Bidding...</td>\n",
       "      <td>10007</td>\n",
       "      <td>Card Game, Civilization, Economic</td>\n",
       "      <td>Vlaada Chvátil</td>\n",
       "      <td>4.3093</td>\n",
       "    </tr>\n",
       "    <tr>\n",
       "      <td>2</td>\n",
       "      <td>3</td>\n",
       "      <td>https://boardgamegeek.com/boardgame/12333/twil...</td>\n",
       "      <td>12333</td>\n",
       "      <td>Twilight Struggle</td>\n",
       "      <td>2</td>\n",
       "      <td>2</td>\n",
       "      <td>180</td>\n",
       "      <td>180</td>\n",
       "      <td>180</td>\n",
       "      <td>2005</td>\n",
       "      <td>8.35745</td>\n",
       "      <td>8.22021</td>\n",
       "      <td>27403</td>\n",
       "      <td>https://cf.geekdo-images.com/images/pic361592.jpg</td>\n",
       "      <td>13</td>\n",
       "      <td>Area Control / Area Influence, Campaign / Batt...</td>\n",
       "      <td>37382</td>\n",
       "      <td>Modern Warfare, Political, Wargame</td>\n",
       "      <td>Ananda Gupta, Jason Matthews</td>\n",
       "      <td>3.5317</td>\n",
       "    </tr>\n",
       "    <tr>\n",
       "      <td>3</td>\n",
       "      <td>4</td>\n",
       "      <td>https://boardgamegeek.com/boardgame/120677/ter...</td>\n",
       "      <td>120677</td>\n",
       "      <td>Terra Mystica</td>\n",
       "      <td>2</td>\n",
       "      <td>5</td>\n",
       "      <td>150</td>\n",
       "      <td>60</td>\n",
       "      <td>150</td>\n",
       "      <td>2012</td>\n",
       "      <td>8.29627</td>\n",
       "      <td>8.15458</td>\n",
       "      <td>24267</td>\n",
       "      <td>https://cf.geekdo-images.com/images/pic1356616...</td>\n",
       "      <td>12</td>\n",
       "      <td>Route/Network Building, Variable Phase Order, ...</td>\n",
       "      <td>27948</td>\n",
       "      <td>Civilization, Economic, Fantasy, Territory Bui...</td>\n",
       "      <td>Jens Drögemüller, Helge Ostertag</td>\n",
       "      <td>3.9387</td>\n",
       "    </tr>\n",
       "    <tr>\n",
       "      <td>4</td>\n",
       "      <td>5</td>\n",
       "      <td>https://boardgamegeek.com/boardgame/174430/glo...</td>\n",
       "      <td>174430</td>\n",
       "      <td>Gloomhaven</td>\n",
       "      <td>1</td>\n",
       "      <td>4</td>\n",
       "      <td>150</td>\n",
       "      <td>90</td>\n",
       "      <td>150</td>\n",
       "      <td>2017</td>\n",
       "      <td>9.08970</td>\n",
       "      <td>8.15151</td>\n",
       "      <td>3978</td>\n",
       "      <td>https://cf.geekdo-images.com/images/pic2437871...</td>\n",
       "      <td>12</td>\n",
       "      <td>Action / Movement Programming, Campaign / Batt...</td>\n",
       "      <td>6057</td>\n",
       "      <td>Adventure, Economic, Exploration, Fantasy, Fig...</td>\n",
       "      <td>Isaac Childres</td>\n",
       "      <td>3.7028</td>\n",
       "    </tr>\n",
       "  </tbody>\n",
       "</table>\n",
       "</div>"
      ],
      "text/plain": [
       "   rank                                            bgg_url  game_id  \\\n",
       "0     1  https://boardgamegeek.com/boardgame/161936/pan...   161936   \n",
       "1     2  https://boardgamegeek.com/boardgame/182028/thr...   182028   \n",
       "2     3  https://boardgamegeek.com/boardgame/12333/twil...    12333   \n",
       "3     4  https://boardgamegeek.com/boardgame/120677/ter...   120677   \n",
       "4     5  https://boardgamegeek.com/boardgame/174430/glo...   174430   \n",
       "\n",
       "                                           names  min_players  max_players  \\\n",
       "0                      Pandemic Legacy: Season 1            2            4   \n",
       "1  Through the Ages: A New Story of Civilization            2            4   \n",
       "2                              Twilight Struggle            2            2   \n",
       "3                                  Terra Mystica            2            5   \n",
       "4                                     Gloomhaven            1            4   \n",
       "\n",
       "   avg_time  min_time  max_time  year  avg_rating  geek_rating  num_votes  \\\n",
       "0        60        60        60  2015     8.66905      8.48904      18009   \n",
       "1       240       180       240  2015     8.72977      8.30744       7309   \n",
       "2       180       180       180  2005     8.35745      8.22021      27403   \n",
       "3       150        60       150  2012     8.29627      8.15458      24267   \n",
       "4       150        90       150  2017     9.08970      8.15151       3978   \n",
       "\n",
       "                                           image_url  age  \\\n",
       "0  https://cf.geekdo-images.com/images/pic2452831...   13   \n",
       "1  https://cf.geekdo-images.com/images/pic2663291...   14   \n",
       "2  https://cf.geekdo-images.com/images/pic361592.jpg   13   \n",
       "3  https://cf.geekdo-images.com/images/pic1356616...   12   \n",
       "4  https://cf.geekdo-images.com/images/pic2437871...   12   \n",
       "\n",
       "                                            mechanic  owned  \\\n",
       "0  Action Point Allowance System, Co-operative Pl...  29472   \n",
       "1  Action Point Allowance System, Auction/Bidding...  10007   \n",
       "2  Area Control / Area Influence, Campaign / Batt...  37382   \n",
       "3  Route/Network Building, Variable Phase Order, ...  27948   \n",
       "4  Action / Movement Programming, Campaign / Batt...   6057   \n",
       "\n",
       "                                            category  \\\n",
       "0                             Environmental, Medical   \n",
       "1                  Card Game, Civilization, Economic   \n",
       "2                 Modern Warfare, Political, Wargame   \n",
       "3  Civilization, Economic, Fantasy, Territory Bui...   \n",
       "4  Adventure, Economic, Exploration, Fantasy, Fig...   \n",
       "\n",
       "                           designer  weight  \n",
       "0          Rob Daviau, Matt Leacock  2.8076  \n",
       "1                    Vlaada Chvátil  4.3093  \n",
       "2      Ananda Gupta, Jason Matthews  3.5317  \n",
       "3  Jens Drögemüller, Helge Ostertag  3.9387  \n",
       "4                    Isaac Childres  3.7028  "
      ]
     },
     "execution_count": 3,
     "metadata": {},
     "output_type": "execute_result"
    }
   ],
   "source": [
    "df2017.head(5)"
   ]
  },
  {
   "cell_type": "code",
   "execution_count": 4,
   "metadata": {},
   "outputs": [
    {
     "data": {
      "text/html": [
       "<div>\n",
       "<style scoped>\n",
       "    .dataframe tbody tr th:only-of-type {\n",
       "        vertical-align: middle;\n",
       "    }\n",
       "\n",
       "    .dataframe tbody tr th {\n",
       "        vertical-align: top;\n",
       "    }\n",
       "\n",
       "    .dataframe thead th {\n",
       "        text-align: right;\n",
       "    }\n",
       "</style>\n",
       "<table border=\"1\" class=\"dataframe\">\n",
       "  <thead>\n",
       "    <tr style=\"text-align: right;\">\n",
       "      <th></th>\n",
       "      <th>rank</th>\n",
       "      <th>bgg_url</th>\n",
       "      <th>game_id</th>\n",
       "      <th>names</th>\n",
       "      <th>min_players</th>\n",
       "      <th>max_players</th>\n",
       "      <th>avg_time</th>\n",
       "      <th>min_time</th>\n",
       "      <th>max_time</th>\n",
       "      <th>year</th>\n",
       "      <th>avg_rating</th>\n",
       "      <th>geek_rating</th>\n",
       "      <th>num_votes</th>\n",
       "      <th>image_url</th>\n",
       "      <th>age</th>\n",
       "      <th>mechanic</th>\n",
       "      <th>owned</th>\n",
       "      <th>category</th>\n",
       "      <th>designer</th>\n",
       "      <th>weight</th>\n",
       "    </tr>\n",
       "  </thead>\n",
       "  <tbody>\n",
       "    <tr>\n",
       "      <td>0</td>\n",
       "      <td>1</td>\n",
       "      <td>https://boardgamegeek.com/boardgame/174430/glo...</td>\n",
       "      <td>174430</td>\n",
       "      <td>Gloomhaven</td>\n",
       "      <td>1</td>\n",
       "      <td>4</td>\n",
       "      <td>150</td>\n",
       "      <td>90</td>\n",
       "      <td>150</td>\n",
       "      <td>2017</td>\n",
       "      <td>9.01310</td>\n",
       "      <td>8.52234</td>\n",
       "      <td>9841</td>\n",
       "      <td>https://cf.geekdo-images.com/images/pic2437871...</td>\n",
       "      <td>12</td>\n",
       "      <td>Action / Movement Programming, Co-operative Pl...</td>\n",
       "      <td>18217</td>\n",
       "      <td>Adventure, Exploration, Fantasy, Fighting, Min...</td>\n",
       "      <td>Isaac Childres</td>\n",
       "      <td>3.7720</td>\n",
       "    </tr>\n",
       "    <tr>\n",
       "      <td>1</td>\n",
       "      <td>2</td>\n",
       "      <td>https://boardgamegeek.com/boardgame/161936/pan...</td>\n",
       "      <td>161936</td>\n",
       "      <td>Pandemic Legacy: Season 1</td>\n",
       "      <td>2</td>\n",
       "      <td>4</td>\n",
       "      <td>60</td>\n",
       "      <td>60</td>\n",
       "      <td>60</td>\n",
       "      <td>2015</td>\n",
       "      <td>8.66575</td>\n",
       "      <td>8.49837</td>\n",
       "      <td>23489</td>\n",
       "      <td>https://cf.geekdo-images.com/images/pic2452831...</td>\n",
       "      <td>13</td>\n",
       "      <td>Action Point Allowance System, Co-operative Pl...</td>\n",
       "      <td>38105</td>\n",
       "      <td>Environmental, Medical</td>\n",
       "      <td>Rob Daviau, Matt Leacock</td>\n",
       "      <td>2.8056</td>\n",
       "    </tr>\n",
       "    <tr>\n",
       "      <td>2</td>\n",
       "      <td>3</td>\n",
       "      <td>https://boardgamegeek.com/boardgame/182028/thr...</td>\n",
       "      <td>182028</td>\n",
       "      <td>Through the Ages: A New Story of Civilization</td>\n",
       "      <td>2</td>\n",
       "      <td>4</td>\n",
       "      <td>240</td>\n",
       "      <td>180</td>\n",
       "      <td>240</td>\n",
       "      <td>2015</td>\n",
       "      <td>8.65702</td>\n",
       "      <td>8.32401</td>\n",
       "      <td>10679</td>\n",
       "      <td>https://cf.geekdo-images.com/images/pic2663291...</td>\n",
       "      <td>14</td>\n",
       "      <td>Action Point Allowance System, Auction/Bidding...</td>\n",
       "      <td>14147</td>\n",
       "      <td>Card Game, Civilization, Economic</td>\n",
       "      <td>Vlaada Chvátil</td>\n",
       "      <td>4.3538</td>\n",
       "    </tr>\n",
       "    <tr>\n",
       "      <td>3</td>\n",
       "      <td>4</td>\n",
       "      <td>https://boardgamegeek.com/boardgame/12333/twil...</td>\n",
       "      <td>12333</td>\n",
       "      <td>Twilight Struggle</td>\n",
       "      <td>2</td>\n",
       "      <td>2</td>\n",
       "      <td>180</td>\n",
       "      <td>120</td>\n",
       "      <td>180</td>\n",
       "      <td>2005</td>\n",
       "      <td>8.35188</td>\n",
       "      <td>8.21012</td>\n",
       "      <td>29923</td>\n",
       "      <td>https://cf.geekdo-images.com/images/pic361592.jpg</td>\n",
       "      <td>13</td>\n",
       "      <td>Area Control / Area Influence, Campaign / Batt...</td>\n",
       "      <td>41094</td>\n",
       "      <td>Modern Warfare, Political, Wargame</td>\n",
       "      <td>Ananda Gupta, Jason Matthews</td>\n",
       "      <td>3.5446</td>\n",
       "    </tr>\n",
       "    <tr>\n",
       "      <td>4</td>\n",
       "      <td>5</td>\n",
       "      <td>https://boardgamegeek.com/boardgame/167791/ter...</td>\n",
       "      <td>167791</td>\n",
       "      <td>Terraforming Mars</td>\n",
       "      <td>1</td>\n",
       "      <td>5</td>\n",
       "      <td>120</td>\n",
       "      <td>120</td>\n",
       "      <td>120</td>\n",
       "      <td>2016</td>\n",
       "      <td>8.38331</td>\n",
       "      <td>8.17328</td>\n",
       "      <td>20468</td>\n",
       "      <td>https://cf.geekdo-images.com/images/pic3536616...</td>\n",
       "      <td>12</td>\n",
       "      <td>Card Drafting, Hand Management, Tile Placement...</td>\n",
       "      <td>26145</td>\n",
       "      <td>Economic, Environmental, Industry / Manufactur...</td>\n",
       "      <td>Jacob Fryxelius</td>\n",
       "      <td>3.2465</td>\n",
       "    </tr>\n",
       "  </tbody>\n",
       "</table>\n",
       "</div>"
      ],
      "text/plain": [
       "   rank                                            bgg_url  game_id  \\\n",
       "0     1  https://boardgamegeek.com/boardgame/174430/glo...   174430   \n",
       "1     2  https://boardgamegeek.com/boardgame/161936/pan...   161936   \n",
       "2     3  https://boardgamegeek.com/boardgame/182028/thr...   182028   \n",
       "3     4  https://boardgamegeek.com/boardgame/12333/twil...    12333   \n",
       "4     5  https://boardgamegeek.com/boardgame/167791/ter...   167791   \n",
       "\n",
       "                                           names  min_players  max_players  \\\n",
       "0                                     Gloomhaven            1            4   \n",
       "1                      Pandemic Legacy: Season 1            2            4   \n",
       "2  Through the Ages: A New Story of Civilization            2            4   \n",
       "3                              Twilight Struggle            2            2   \n",
       "4                              Terraforming Mars            1            5   \n",
       "\n",
       "   avg_time  min_time  max_time  year  avg_rating  geek_rating  num_votes  \\\n",
       "0       150        90       150  2017     9.01310      8.52234       9841   \n",
       "1        60        60        60  2015     8.66575      8.49837      23489   \n",
       "2       240       180       240  2015     8.65702      8.32401      10679   \n",
       "3       180       120       180  2005     8.35188      8.21012      29923   \n",
       "4       120       120       120  2016     8.38331      8.17328      20468   \n",
       "\n",
       "                                           image_url  age  \\\n",
       "0  https://cf.geekdo-images.com/images/pic2437871...   12   \n",
       "1  https://cf.geekdo-images.com/images/pic2452831...   13   \n",
       "2  https://cf.geekdo-images.com/images/pic2663291...   14   \n",
       "3  https://cf.geekdo-images.com/images/pic361592.jpg   13   \n",
       "4  https://cf.geekdo-images.com/images/pic3536616...   12   \n",
       "\n",
       "                                            mechanic  owned  \\\n",
       "0  Action / Movement Programming, Co-operative Pl...  18217   \n",
       "1  Action Point Allowance System, Co-operative Pl...  38105   \n",
       "2  Action Point Allowance System, Auction/Bidding...  14147   \n",
       "3  Area Control / Area Influence, Campaign / Batt...  41094   \n",
       "4  Card Drafting, Hand Management, Tile Placement...  26145   \n",
       "\n",
       "                                            category  \\\n",
       "0  Adventure, Exploration, Fantasy, Fighting, Min...   \n",
       "1                             Environmental, Medical   \n",
       "2                  Card Game, Civilization, Economic   \n",
       "3                 Modern Warfare, Political, Wargame   \n",
       "4  Economic, Environmental, Industry / Manufactur...   \n",
       "\n",
       "                       designer  weight  \n",
       "0                Isaac Childres  3.7720  \n",
       "1      Rob Daviau, Matt Leacock  2.8056  \n",
       "2                Vlaada Chvátil  4.3538  \n",
       "3  Ananda Gupta, Jason Matthews  3.5446  \n",
       "4               Jacob Fryxelius  3.2465  "
      ]
     },
     "execution_count": 4,
     "metadata": {},
     "output_type": "execute_result"
    }
   ],
   "source": [
    "df2018.head(5)"
   ]
  },
  {
   "cell_type": "code",
   "execution_count": 5,
   "metadata": {},
   "outputs": [
    {
     "name": "stdout",
     "output_type": "stream",
     "text": [
      "<class 'pandas.core.frame.DataFrame'>\n",
      "RangeIndex: 4999 entries, 0 to 4998\n",
      "Data columns (total 20 columns):\n",
      "rank           4999 non-null int64\n",
      "bgg_url        4999 non-null object\n",
      "game_id        4999 non-null int64\n",
      "names          4999 non-null object\n",
      "min_players    4999 non-null int64\n",
      "max_players    4999 non-null int64\n",
      "avg_time       4999 non-null int64\n",
      "min_time       4999 non-null int64\n",
      "max_time       4999 non-null int64\n",
      "year           4999 non-null int64\n",
      "avg_rating     4999 non-null float64\n",
      "geek_rating    4999 non-null float64\n",
      "num_votes      4999 non-null int64\n",
      "image_url      4999 non-null object\n",
      "age            4999 non-null int64\n",
      "mechanic       4999 non-null object\n",
      "owned          4999 non-null int64\n",
      "category       4999 non-null object\n",
      "designer       4999 non-null object\n",
      "weight         4999 non-null float64\n",
      "dtypes: float64(3), int64(11), object(6)\n",
      "memory usage: 781.2+ KB\n"
     ]
    }
   ],
   "source": [
    "df2017.info()"
   ]
  },
  {
   "cell_type": "code",
   "execution_count": 40,
   "metadata": {},
   "outputs": [
    {
     "name": "stdout",
     "output_type": "stream",
     "text": [
      "<class 'pandas.core.frame.DataFrame'>\n",
      "RangeIndex: 4999 entries, 0 to 4998\n",
      "Data columns (total 20 columns):\n",
      "rank           4999 non-null int64\n",
      "bgg_url        4999 non-null object\n",
      "game_id        4999 non-null int64\n",
      "names          4999 non-null object\n",
      "min_players    4999 non-null int64\n",
      "max_players    4999 non-null int64\n",
      "avg_time       4999 non-null int64\n",
      "min_time       4999 non-null int64\n",
      "max_time       4999 non-null int64\n",
      "year           4999 non-null int64\n",
      "avg_rating     4999 non-null float64\n",
      "geek_rating    4999 non-null float64\n",
      "num_votes      4999 non-null int64\n",
      "image_url      4999 non-null object\n",
      "age            4999 non-null int64\n",
      "mechanic       4999 non-null object\n",
      "owned          4999 non-null int64\n",
      "category       4999 non-null object\n",
      "designer       4999 non-null object\n",
      "weight         4999 non-null float64\n",
      "dtypes: float64(3), int64(11), object(6)\n",
      "memory usage: 781.2+ KB\n"
     ]
    }
   ],
   "source": [
    "df2018.info()"
   ]
  },
  {
   "cell_type": "code",
   "execution_count": 41,
   "metadata": {},
   "outputs": [
    {
     "data": {
      "text/plain": [
       "rank           0\n",
       "bgg_url        0\n",
       "game_id        0\n",
       "names          0\n",
       "min_players    0\n",
       "max_players    0\n",
       "avg_time       0\n",
       "min_time       0\n",
       "max_time       0\n",
       "year           0\n",
       "avg_rating     0\n",
       "geek_rating    0\n",
       "num_votes      0\n",
       "image_url      0\n",
       "age            0\n",
       "mechanic       0\n",
       "owned          0\n",
       "category       0\n",
       "designer       0\n",
       "weight         0\n",
       "dtype: int64"
      ]
     },
     "execution_count": 41,
     "metadata": {},
     "output_type": "execute_result"
    }
   ],
   "source": [
    "df2017.isnull().sum()"
   ]
  },
  {
   "cell_type": "code",
   "execution_count": 42,
   "metadata": {},
   "outputs": [
    {
     "data": {
      "text/plain": [
       "rank           0\n",
       "bgg_url        0\n",
       "game_id        0\n",
       "names          0\n",
       "min_players    0\n",
       "max_players    0\n",
       "avg_time       0\n",
       "min_time       0\n",
       "max_time       0\n",
       "year           0\n",
       "avg_rating     0\n",
       "geek_rating    0\n",
       "num_votes      0\n",
       "image_url      0\n",
       "age            0\n",
       "mechanic       0\n",
       "owned          0\n",
       "category       0\n",
       "designer       0\n",
       "weight         0\n",
       "dtype: int64"
      ]
     },
     "execution_count": 42,
     "metadata": {},
     "output_type": "execute_result"
    }
   ],
   "source": [
    "df2018.isnull().sum()"
   ]
  },
  {
   "cell_type": "code",
   "execution_count": 43,
   "metadata": {},
   "outputs": [],
   "source": [
    "# header_list = ['Acting', 'Action Drafting', 'Action Points', 'Action Queue', 'Action Retreival', 'Action Timer',\n",
    "#               'Action/Event', 'Advantage Token','Alliances', 'Area Movement', 'Auction/Bidding',\n",
    "#               'Auction: Dutch', 'Auction: Dutch Priority', 'Auction: English', 'Auction: Fixed Placement,'\n",
    "#              'Auction: Once Around', 'Auction: Sealed Bid', 'Auction: Turn Order Until Pass', 'Automatic Resource Growth',\n",
    "#              'Betting and Bluffing', 'Bias', 'Bribery', 'Campaign / Battle Card Driven', 'Card Drafting',\n",
    "#              'Card Play Conflict Resolution', 'Catch the Leader', 'Chaining', 'Chit-Pull System', 'Closed Economy Auction',\n",
    "#              'Command Cards', 'Commodity Speculation', 'Communication Limits', 'Connections', 'Constrained Bidding',\n",
    "#              'Contracts', 'Cooperative Game', 'Crayon Rail System', 'Cooperative Game']"
   ]
  },
  {
   "cell_type": "code",
   "execution_count": 44,
   "metadata": {},
   "outputs": [],
   "source": [
    "# categs = pd.DataFrame(columns = header_list)\n"
   ]
  },
  {
   "cell_type": "code",
   "execution_count": 45,
   "metadata": {},
   "outputs": [],
   "source": [
    "# df2018 = pd.concat([df2018, categs], axis = 1)"
   ]
  },
  {
   "cell_type": "code",
   "execution_count": 46,
   "metadata": {},
   "outputs": [],
   "source": [
    "# df2018"
   ]
  },
  {
   "cell_type": "code",
   "execution_count": null,
   "metadata": {},
   "outputs": [],
   "source": []
  },
  {
   "cell_type": "code",
   "execution_count": 47,
   "metadata": {},
   "outputs": [],
   "source": [
    "# pd.get_dummies(df['category'])\n",
    "mechdum2017 = df2017[\"mechanic\"].str.get_dummies(\", \") "
   ]
  },
  {
   "cell_type": "code",
   "execution_count": 52,
   "metadata": {},
   "outputs": [],
   "source": [
    "mechdum2018 = df2018[\"mechanic\"].str.get_dummies(\", \") "
   ]
  },
  {
   "cell_type": "code",
   "execution_count": 49,
   "metadata": {},
   "outputs": [],
   "source": [
    "df2017 = pd.concat([mechdum, df2017], axis=1, ignore_index=False, sort=True)"
   ]
  },
  {
   "cell_type": "code",
   "execution_count": 53,
   "metadata": {},
   "outputs": [],
   "source": [
    "df2018 = pd.concat([mechdum, df2018], axis=1, ignore_index=False, sort=False)"
   ]
  },
  {
   "cell_type": "code",
   "execution_count": 54,
   "metadata": {},
   "outputs": [],
   "source": [
    "# Saving new CSV for the model\n",
    "df2017.to_csv(\"2017_BGG_cleaned.csv\")"
   ]
  },
  {
   "cell_type": "code",
   "execution_count": 55,
   "metadata": {},
   "outputs": [],
   "source": [
    "df2018.to_csv(\"2018_BGG_cleaned.csv\")"
   ]
  },
  {
   "cell_type": "code",
   "execution_count": null,
   "metadata": {},
   "outputs": [],
   "source": []
  },
  {
   "cell_type": "code",
   "execution_count": null,
   "metadata": {},
   "outputs": [],
   "source": [
    "df = df.drop(columns = ['mechanic', 'category', 'bgg_url', 'game_id', 'image_url'])"
   ]
  },
  {
   "cell_type": "code",
   "execution_count": null,
   "metadata": {},
   "outputs": [],
   "source": [
    "df.head()"
   ]
  },
  {
   "cell_type": "code",
   "execution_count": null,
   "metadata": {},
   "outputs": [],
   "source": [
    "bgg_corr = df.corr(method='pearson', min_periods=1)"
   ]
  },
  {
   "cell_type": "code",
   "execution_count": null,
   "metadata": {},
   "outputs": [],
   "source": [
    "bgg_corr"
   ]
  },
  {
   "cell_type": "code",
   "execution_count": null,
   "metadata": {},
   "outputs": [],
   "source": [
    "bgg_corr[\"geek_rating\"].sort_values(ascending=False)"
   ]
  },
  {
   "cell_type": "code",
   "execution_count": null,
   "metadata": {},
   "outputs": [],
   "source": []
  },
  {
   "cell_type": "code",
   "execution_count": null,
   "metadata": {},
   "outputs": [],
   "source": []
  },
  {
   "cell_type": "code",
   "execution_count": null,
   "metadata": {},
   "outputs": [],
   "source": [
    "df2017.categories.str.split().tolist()"
   ]
  },
  {
   "cell_type": "code",
   "execution_count": null,
   "metadata": {},
   "outputs": [],
   "source": []
  },
  {
   "cell_type": "code",
   "execution_count": null,
   "metadata": {},
   "outputs": [],
   "source": []
  },
  {
   "cell_type": "code",
   "execution_count": null,
   "metadata": {},
   "outputs": [],
   "source": []
  },
  {
   "cell_type": "code",
   "execution_count": null,
   "metadata": {},
   "outputs": [],
   "source": []
  },
  {
   "cell_type": "code",
   "execution_count": null,
   "metadata": {},
   "outputs": [],
   "source": [
    "# Feature Selection\n",
    "features = ['weight', 'avg_time', 'num_votes', 'owned']\n",
    "X = df[features]\n",
    "y = df['geek_rating']"
   ]
  },
  {
   "cell_type": "code",
   "execution_count": null,
   "metadata": {},
   "outputs": [],
   "source": [
    "# Performing the Train Test Split\n",
    "from sklearn.model_selection import train_test_split"
   ]
  },
  {
   "cell_type": "code",
   "execution_count": null,
   "metadata": {},
   "outputs": [],
   "source": [
    "X_train, X_test, y_train, y_test = train_test_split(\n",
    "    X,\n",
    "    y,\n",
    "    test_size=0.7,\n",
    "    random_state=42\n",
    ")"
   ]
  },
  {
   "cell_type": "code",
   "execution_count": null,
   "metadata": {},
   "outputs": [],
   "source": [
    "print(f'X_train shape is: {X_train.shape}')\n",
    "print(f'y_train shape is: {y_train.shape}')\n",
    "print(f'X_test shape is: {X_test.shape}')\n",
    "print(f'y_test shape is: {y_test.shape}')"
   ]
  },
  {
   "cell_type": "code",
   "execution_count": null,
   "metadata": {},
   "outputs": [],
   "source": [
    "# Importing StandardScaler from sklearn\n",
    "from sklearn.preprocessing import StandardScaler"
   ]
  },
  {
   "cell_type": "code",
   "execution_count": null,
   "metadata": {},
   "outputs": [],
   "source": [
    "# Instiantiating StandardScaler\n",
    "sc = StandardScaler()"
   ]
  },
  {
   "cell_type": "code",
   "execution_count": null,
   "metadata": {},
   "outputs": [],
   "source": [
    "# Fit and transform the StandardScaler to the train data, and transforming the test data.\n",
    "X_train = sc.fit_transform(X_train)\n",
    "X_test = sc.transform(X_test)"
   ]
  },
  {
   "cell_type": "code",
   "execution_count": null,
   "metadata": {},
   "outputs": [],
   "source": []
  },
  {
   "cell_type": "code",
   "execution_count": null,
   "metadata": {},
   "outputs": [],
   "source": []
  },
  {
   "cell_type": "code",
   "execution_count": null,
   "metadata": {},
   "outputs": [],
   "source": []
  },
  {
   "cell_type": "code",
   "execution_count": null,
   "metadata": {},
   "outputs": [],
   "source": []
  },
  {
   "cell_type": "code",
   "execution_count": null,
   "metadata": {},
   "outputs": [],
   "source": [
    "# Importing LinearRegression from sklearn\n",
    "from sklearn.linear_model import LinearRegression"
   ]
  },
  {
   "cell_type": "code",
   "execution_count": null,
   "metadata": {},
   "outputs": [],
   "source": [
    "# Instantiating LinearRegression\n",
    "linreg = LinearRegression()"
   ]
  },
  {
   "cell_type": "code",
   "execution_count": null,
   "metadata": {},
   "outputs": [],
   "source": [
    "# Fitting the linreg to our train data\n",
    "linreg.fit(X_train, y_train)"
   ]
  },
  {
   "cell_type": "code",
   "execution_count": null,
   "metadata": {},
   "outputs": [],
   "source": [
    "# Scoring with R2 to see if our model is overfit, underfit, or neither.\n",
    "print(linreg.score(X_train, y_train))\n",
    "print(linreg.score(X_test, y_test))"
   ]
  },
  {
   "cell_type": "code",
   "execution_count": null,
   "metadata": {},
   "outputs": [],
   "source": [
    "y_pred1 = model.predict(X)"
   ]
  },
  {
   "cell_type": "code",
   "execution_count": null,
   "metadata": {},
   "outputs": [],
   "source": [
    "# Importing Ridge Regression from sklearn\n",
    "from sklearn.linear_model import Ridge"
   ]
  },
  {
   "cell_type": "code",
   "execution_count": null,
   "metadata": {},
   "outputs": [],
   "source": [
    "# Instantiating the Ridge Regression\n",
    "ridgereg = Ridge(alpha=10)"
   ]
  },
  {
   "cell_type": "code",
   "execution_count": null,
   "metadata": {},
   "outputs": [],
   "source": [
    "# Fitting the Ridge Regression\n",
    "ridgereg.fit(X_train, y_train)"
   ]
  },
  {
   "cell_type": "code",
   "execution_count": null,
   "metadata": {},
   "outputs": [],
   "source": [
    "# Evaluating our Ridge Regression model using R2.\n",
    "print(ridgereg.score(X_train, y_train))\n",
    "print(ridgereg.score(X_test, y_test))"
   ]
  },
  {
   "cell_type": "code",
   "execution_count": null,
   "metadata": {},
   "outputs": [],
   "source": [
    "# Our Ridge Regression Model has a slightly better R2 score vs. our Linear Regression"
   ]
  },
  {
   "cell_type": "code",
   "execution_count": null,
   "metadata": {},
   "outputs": [],
   "source": []
  },
  {
   "cell_type": "code",
   "execution_count": null,
   "metadata": {},
   "outputs": [],
   "source": [
    "# Evaluating our Linear Regression model using R2:\n",
    "print(f\"The training R2 for the Linear Regression model is {linreg.score(X_train, y_train)}\")\n",
    "print(f\"The test R2 for the Linear Regression model is {linreg.score(X_test, y_test)}\")\n",
    "\n",
    "# Evaluating our Ridge Regression model using R2:\n",
    "print(f\"The training R2 for the Ridge Regression model is {ridgereg.score(X_train, y_train)}\")\n",
    "print(f\"The test R2 for the Ridge Regression model is {ridgereg.score(X_test, y_test)}\")"
   ]
  }
 ],
 "metadata": {
  "kernelspec": {
   "display_name": "Python 3",
   "language": "python",
   "name": "python3"
  },
  "language_info": {
   "codemirror_mode": {
    "name": "ipython",
    "version": 3
   },
   "file_extension": ".py",
   "mimetype": "text/x-python",
   "name": "python",
   "nbconvert_exporter": "python",
   "pygments_lexer": "ipython3",
   "version": "3.7.4"
  }
 },
 "nbformat": 4,
 "nbformat_minor": 4
}
